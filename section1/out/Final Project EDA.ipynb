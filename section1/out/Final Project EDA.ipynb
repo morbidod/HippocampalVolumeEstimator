{
 "cells": [
  {
   "cell_type": "markdown",
   "metadata": {},
   "source": [
    "# Preparing the dataset for hippocampus segmentation\n",
    "\n",
    "In this notebook you will use the skills and methods that we have talked about during our EDA Lesson to prepare the hippocampus dataset using Python. Follow the Notebook, writing snippets of code where directed so using Task comments, similar to the one below, which expects you to put the proper imports in place. Write your code directly in the cell with TASK comment. Feel free to add cells as you see fit, but please make sure that code that performs that tasked activity sits in the same cell as the Task comment.\n"
   ]
  },
  {
   "cell_type": "code",
   "execution_count": 15,
   "metadata": {},
   "outputs": [],
   "source": [
    "# TASK: Import the following libraries that we will use: nibabel, matplotlib, numpy\n",
    "import numpy as np\n",
    "import matplotlib.pyplot as plt\n",
    "import nibabel\n",
    "import os\n",
    "#import pandas as pd"
   ]
  },
  {
   "cell_type": "markdown",
   "metadata": {},
   "source": [
    "It will help your understanding of the data a lot if you were able to use a tool that allows you to view NIFTI volumes, like [3D Slicer](https://www.slicer.org/). I will refer to Slicer throughout this Notebook and will be pasting some images showing what your output might look like."
   ]
  },
  {
   "cell_type": "markdown",
   "metadata": {},
   "source": [
    "## Loading NIFTI images using NiBabel\n",
    "\n",
    "NiBabel is a python library for working with neuro-imaging formats (including NIFTI) that we have used in some of the exercises throughout the course. Our volumes and labels are in NIFTI format, so we will use nibabel to load and inspect them.\n",
    "\n",
    "NiBabel documentation could be found here: https://nipy.org/nibabel/\n",
    "\n",
    "Our dataset sits in two directories - *images* and *labels*. Each image is represented by a single file (we are fortunate to have our data converted to NIFTI) and has a corresponding label file which is named the same as the image file.\n",
    "\n",
    "Note that our dataset is \"dirty\". There are a few images and labels that are not quite right. They should be quite obvious to notice, though. The dataset contains an equal amount of \"correct\" volumes and corresponding labels, and you don't need to alter values of any samples in order to get the clean dataset."
   ]
  },
  {
   "cell_type": "code",
   "execution_count": 18,
   "metadata": {},
   "outputs": [],
   "source": [
    "# TASK: Your data sits in directory /data/TrainingSet.\n",
    "path=r\"data/TrainingSet\"\n",
    "list_ni_files=[(dp,files) for dp,_,files in os.walk(path) if len(files) != 0]\n",
    "# Load an image and a segmentation mask into variables called image and label"
   ]
  },
  {
   "cell_type": "code",
   "execution_count": 19,
   "metadata": {},
   "outputs": [
    {
     "data": {
      "text/plain": [
       "2"
      ]
     },
     "execution_count": 19,
     "metadata": {},
     "output_type": "execute_result"
    }
   ],
   "source": [
    "len(list_ni_files) #0 images 1 labels"
   ]
  },
  {
   "cell_type": "code",
   "execution_count": 20,
   "metadata": {},
   "outputs": [],
   "source": [
    "list_ni_img_files=list_ni_files[0]\n",
    "list_ni_lbl_files=list_ni_files[1]\n"
   ]
  },
  {
   "cell_type": "code",
   "execution_count": 21,
   "metadata": {},
   "outputs": [
    {
     "data": {
      "text/plain": [
       "tuple"
      ]
     },
     "execution_count": 21,
     "metadata": {},
     "output_type": "execute_result"
    }
   ],
   "source": [
    "type(list_ni_img_files)"
   ]
  },
  {
   "cell_type": "code",
   "execution_count": 22,
   "metadata": {},
   "outputs": [
    {
     "data": {
      "text/plain": [
       "'data/TrainingSet\\\\images'"
      ]
     },
     "execution_count": 22,
     "metadata": {},
     "output_type": "execute_result"
    }
   ],
   "source": [
    "list_ni_img_files[0]"
   ]
  },
  {
   "cell_type": "code",
   "execution_count": 23,
   "metadata": {},
   "outputs": [
    {
     "data": {
      "text/plain": [
       "list"
      ]
     },
     "execution_count": 23,
     "metadata": {},
     "output_type": "execute_result"
    }
   ],
   "source": [
    "type(list_ni_img_files[1])"
   ]
  },
  {
   "cell_type": "code",
   "execution_count": 24,
   "metadata": {},
   "outputs": [
    {
     "data": {
      "text/plain": [
       "260"
      ]
     },
     "execution_count": 24,
     "metadata": {},
     "output_type": "execute_result"
    }
   ],
   "source": [
    "len(list_ni_img_files[1])"
   ]
  },
  {
   "cell_type": "code",
   "execution_count": 25,
   "metadata": {},
   "outputs": [
    {
     "data": {
      "text/plain": [
       "260"
      ]
     },
     "execution_count": 25,
     "metadata": {},
     "output_type": "execute_result"
    }
   ],
   "source": [
    "len(list_ni_lbl_files[1])"
   ]
  },
  {
   "cell_type": "markdown",
   "metadata": {},
   "source": [
    "One file in the image directory does not have its correspondance in the label one and will be removed"
   ]
  },
  {
   "cell_type": "markdown",
   "metadata": {},
   "source": [
    "I create a Dataframe(dict) with 2 columns(keys) containing the full path for the images and labels"
   ]
  },
  {
   "cell_type": "code",
   "execution_count": 26,
   "metadata": {},
   "outputs": [],
   "source": [
    "#nidf=pd.DataFrame()\n",
    "nidf={}\n",
    "nidf['fullfilename_images']=[os.path.join(list_ni_img_files[0],f) for f in list_ni_img_files[1] if f in list_ni_lbl_files[1] ]\n",
    "nidf['fullfilename_labels']=[os.path.join(list_ni_lbl_files[0],f) for f in list_ni_lbl_files[1]]"
   ]
  },
  {
   "cell_type": "code",
   "execution_count": 27,
   "metadata": {},
   "outputs": [],
   "source": [
    "nidf['pixdim_i'] = [nibabel.load(x).header['pixdim'] for x in nidf['fullfilename_images']]\n",
    "nidf['pixdim_l'] = [nibabel.load(x).header['pixdim'] for x in nidf['fullfilename_labels']]"
   ]
  },
  {
   "cell_type": "code",
   "execution_count": 28,
   "metadata": {},
   "outputs": [],
   "source": [
    "nidf['dim_i'] = [nibabel.load(x).header['dim'] for x in nidf['fullfilename_images']]\n",
    "nidf['dim_l'] = [nibabel.load(x).header['dim'] for x in nidf['fullfilename_labels']]"
   ]
  },
  {
   "cell_type": "code",
   "execution_count": 29,
   "metadata": {},
   "outputs": [],
   "source": [
    "nidf['bitpix_i'] = [nibabel.load(x).header['bitpix'] for x in nidf['fullfilename_images']]\n",
    "nidf['bitpix_l'] = [nibabel.load(x).header['bitpix'] for x in nidf['fullfilename_labels']]"
   ]
  },
  {
   "cell_type": "code",
   "execution_count": 30,
   "metadata": {},
   "outputs": [
    {
     "name": "stdout",
     "output_type": "stream",
     "text": [
      "<class 'nibabel.nifti1.Nifti1Header'> object, endian='<'\n",
      "sizeof_hdr      : 348\n",
      "data_type       : b''\n",
      "db_name         : b''\n",
      "extents         : 0\n",
      "session_error   : 0\n",
      "regular         : b'r'\n",
      "dim_info        : 0\n",
      "dim             : [ 3 35 51 35  1  1  1  1]\n",
      "intent_p1       : 0.0\n",
      "intent_p2       : 0.0\n",
      "intent_p3       : 0.0\n",
      "intent_code     : none\n",
      "datatype        : uint8\n",
      "bitpix          : 8\n",
      "slice_start     : 0\n",
      "pixdim          : [1. 1. 1. 1. 1. 0. 0. 0.]\n",
      "vox_offset      : 0.0\n",
      "scl_slope       : nan\n",
      "scl_inter       : nan\n",
      "slice_end       : 0\n",
      "slice_code      : unknown\n",
      "xyzt_units      : 10\n",
      "cal_max         : 0.0\n",
      "cal_min         : 0.0\n",
      "slice_duration  : 0.0\n",
      "toffset         : 0.0\n",
      "glmax           : 0\n",
      "glmin           : 0\n",
      "descrip         : b'5.0.10'\n",
      "aux_file        : b'none'\n",
      "qform_code      : scanner\n",
      "sform_code      : scanner\n",
      "quatern_b       : 0.0\n",
      "quatern_c       : 0.0\n",
      "quatern_d       : 0.0\n",
      "qoffset_x       : 1.0\n",
      "qoffset_y       : 1.0\n",
      "qoffset_z       : 1.0\n",
      "srow_x          : [1. 0. 0. 1.]\n",
      "srow_y          : [0. 1. 0. 1.]\n",
      "srow_z          : [0. 0. 1. 1.]\n",
      "intent_name     : b''\n",
      "magic           : b'n+1'\n",
      "[[1. 0. 0. 1.]\n",
      " [0. 1. 0. 1.]\n",
      " [0. 0. 1. 1.]\n",
      " [0. 0. 0. 1.]]\n"
     ]
    }
   ],
   "source": [
    "img=nibabel.load(nidf['fullfilename_images'][0])\n",
    "print(img.header)\n",
    "img.shape\n",
    "img_data=img.get_fdata()\n",
    "img_data.shape\n",
    "print(img.affine)"
   ]
  },
  {
   "cell_type": "code",
   "execution_count": 31,
   "metadata": {},
   "outputs": [],
   "source": [
    "# Nibabel can present your image data as a Numpy array by calling the method get_fdata()\n",
    "# The array will contain a multi-dimensional Numpy array with numerical values representing voxel intensities. \n",
    "# In our case, images and labels are 3-dimensional, so get_fdata will return a 3-dimensional array. You can verify this\n",
    "# by accessing the .shape attribute. What are the dimensions of the input arrays?\n",
    "\n",
    "# TASK: using matplotlib, visualize a few slices from the dataset, along with their labels. \n",
    "# You can adjust plot sizes like so if you find them too small:\n",
    "# plt.rcParams[\"figure.figsize\"] = (10,10)"
   ]
  },
  {
   "cell_type": "code",
   "execution_count": 32,
   "metadata": {},
   "outputs": [
    {
     "data": {
      "text/plain": [
       "Text(0.5, 1.0, 'Axial')"
      ]
     },
     "execution_count": 32,
     "metadata": {},
     "output_type": "execute_result"
    },
    {
     "data": {
      "image/png": "[encoded data removed]",
      "text/plain": [
       "<Figure size 288x288 with 1 Axes>"
      ]
     },
     "metadata": {
      "needs_background": "light"
     },
     "output_type": "display_data"
    }
   ],
   "source": [
    "plt.rcParams[\"figure.figsize\"] = (4,4)\n",
    "plt.imshow(img_data[:,:,img_data.shape[2]//2],cmap=\"gray\")\n",
    "plt.title(\"Axial\")\n",
    "    \n",
    "    "
   ]
  },
  {
   "cell_type": "code",
   "execution_count": 33,
   "metadata": {},
   "outputs": [
    {
     "data": {
      "text/plain": [
       "Text(0.5, 1.0, 'Coronal')"
      ]
     },
     "execution_count": 33,
     "metadata": {},
     "output_type": "execute_result"
    },
    {
     "data": {
      "image/png": "[encoded data removed]",
      "text/plain": [
       "<Figure size 288x288 with 1 Axes>"
      ]
     },
     "metadata": {
      "needs_background": "light"
     },
     "output_type": "display_data"
    }
   ],
   "source": [
    "plt.imshow(img_data[img_data.shape[0]//2,:,:],cmap=\"gray\")\n",
    "plt.title(\"Coronal\")\n"
   ]
  },
  {
   "cell_type": "code",
   "execution_count": 34,
   "metadata": {},
   "outputs": [
    {
     "data": {
      "text/plain": [
       "Text(0.5, 1.0, 'Sagittal')"
      ]
     },
     "execution_count": 34,
     "metadata": {},
     "output_type": "execute_result"
    },
    {
     "data": {
      "image/png": "[encoded data removed]",
      "text/plain": [
       "<Figure size 288x288 with 1 Axes>"
      ]
     },
     "metadata": {
      "needs_background": "light"
     },
     "output_type": "display_data"
    }
   ],
   "source": [
    "plt.imshow(img_data[:,img_data.shape[1]//2,:],cmap=\"gray\")\n",
    "plt.title(\"Sagittal\")"
   ]
  },
  {
   "cell_type": "code",
   "execution_count": 35,
   "metadata": {},
   "outputs": [
    {
     "data": {
      "text/plain": [
       "Text(0.5, 1.0, 'Projection of slices on the Coronal')"
      ]
     },
     "execution_count": 35,
     "metadata": {},
     "output_type": "execute_result"
    },
    {
     "data": {
      "image/png": "[encoded data removed]",
      "text/plain": [
       "<Figure size 288x288 with 1 Axes>"
      ]
     },
     "metadata": {
      "needs_background": "light"
     },
     "output_type": "display_data"
    }
   ],
   "source": [
    "vr = np.zeros((img_data.shape[1], img_data.shape[2]))\n",
    "for ix in range(img_data.shape[0]):\n",
    "    vr+=img_data[ix,:,:]\n",
    "plt.imshow(vr,cmap=\"gray\") \n",
    "plt.title(\"Projection of slices on the Coronal\")"
   ]
  },
  {
   "cell_type": "code",
   "execution_count": 36,
   "metadata": {},
   "outputs": [
    {
     "data": {
      "text/plain": [
       "Text(0.5, 1.0, 'Projection on the Sagittal')"
      ]
     },
     "execution_count": 36,
     "metadata": {},
     "output_type": "execute_result"
    },
    {
     "data": {
      "image/png": "[encoded data removed]",
      "text/plain": [
       "<Figure size 288x288 with 1 Axes>"
      ]
     },
     "metadata": {
      "needs_background": "light"
     },
     "output_type": "display_data"
    }
   ],
   "source": [
    "vr = np.zeros((img_data.shape[0], img_data.shape[2]))\n",
    "for ix in range(img_data.shape[1]):\n",
    "    vr+=img_data[:,ix,:]\n",
    "plt.imshow(vr,cmap=\"gray\") \n",
    "plt.title(\"Projection on the Sagittal\")"
   ]
  },
  {
   "cell_type": "code",
   "execution_count": 37,
   "metadata": {},
   "outputs": [
    {
     "data": {
      "text/plain": [
       "Text(0.5, 1.0, 'Axial projection')"
      ]
     },
     "execution_count": 37,
     "metadata": {},
     "output_type": "execute_result"
    },
    {
     "data": {
      "image/png": "[encoded data removed]",
      "text/plain": [
       "<Figure size 288x288 with 1 Axes>"
      ]
     },
     "metadata": {
      "needs_background": "light"
     },
     "output_type": "display_data"
    }
   ],
   "source": [
    "vr = np.zeros((img_data.shape[0], img_data.shape[1]))\n",
    "for ix in range(img_data.shape[2]):\n",
    "    vr+=img_data[:,:,ix]\n",
    "plt.imshow(vr,cmap=\"gray\") \n",
    "plt.title(\"Axial projection\")"
   ]
  },
  {
   "cell_type": "code",
   "execution_count": 38,
   "metadata": {},
   "outputs": [
    {
     "data": {
      "text/plain": [
       "<matplotlib.image.AxesImage at 0x1cad5f6c9b0>"
      ]
     },
     "execution_count": 38,
     "metadata": {},
     "output_type": "execute_result"
    },
    {
     "data": {
      "image/png": "[encoded data removed]",
      "text/plain": [
       "<Figure size 288x288 with 1 Axes>"
      ]
     },
     "metadata": {
      "needs_background": "light"
     },
     "output_type": "display_data"
    }
   ],
   "source": [
    "#Maximum projection along y\n",
    "mip = np.zeros((img_data.shape[0], img_data.shape[2]))\n",
    "for x in range(img_data.shape[0]):\n",
    "        for z in range (img_data.shape[2]):\n",
    "            maxval=0\n",
    "            for y in range(img_data.shape[1]):\n",
    "                if img_data[x,y,z]>maxval:\n",
    "                    maxval=img_data[x,y,z]\n",
    "            mip[x,z]=maxval\n",
    "plt.imshow(mip,cmap=\"gray\")  "
   ]
  },
  {
   "cell_type": "code",
   "execution_count": 39,
   "metadata": {},
   "outputs": [
    {
     "data": {
      "text/plain": [
       "Text(0.5, 1.0, 'Maximum Axial Projection')"
      ]
     },
     "execution_count": 39,
     "metadata": {},
     "output_type": "execute_result"
    },
    {
     "data": {
      "image/png": "[encoded data removed]",
      "text/plain": [
       "<Figure size 288x288 with 1 Axes>"
      ]
     },
     "metadata": {
      "needs_background": "light"
     },
     "output_type": "display_data"
    }
   ],
   "source": [
    "#Maximum projection along z\n",
    "mip = np.zeros((img_data.shape[0], img_data.shape[1]))\n",
    "for x in range(img_data.shape[0]):\n",
    "        for y in range (img_data.shape[1]):\n",
    "            maxval=0\n",
    "            for z in range(img_data.shape[2]):\n",
    "                if img_data[x,y,z]>maxval:\n",
    "                    maxval=img_data[x,y,z]\n",
    "            mip[x,y]=maxval\n",
    "plt.imshow(mip,cmap=\"gray\")  \n",
    "plt.title(\"Maximum Axial Projection\")"
   ]
  },
  {
   "cell_type": "markdown",
   "metadata": {},
   "source": [
    "Load volume into 3D Slicer to validate that your visualization is correct and get a feel for the shape of structures.Try to get a visualization like the one below (hint: while Slicer documentation is not particularly great, there are plenty of YouTube videos available! Just look it up on YouTube if you are not sure how to do something)\n",
    "\n",
    "![3D slicer](img/Slicer.png)"
   ]
  },
  {
   "cell_type": "code",
   "execution_count": 40,
   "metadata": {},
   "outputs": [],
   "source": [
    "# Stand out suggestion: use one of the simple Volume Rendering algorithms that we've\n",
    "# implemented in one of our earlier lessons to visualize some of these volumes"
   ]
  },
  {
   "cell_type": "markdown",
   "metadata": {},
   "source": [
    "## Looking at single image data\n",
    "In this section we will look closer at the NIFTI representation of our volumes. In order to measure the physical volume of hippocampi, we need to understand the relationship between the sizes of our voxels and the physical world."
   ]
  },
  {
   "cell_type": "code",
   "execution_count": 41,
   "metadata": {
    "scrolled": true
   },
   "outputs": [],
   "source": [
    "# Nibabel supports many imaging formats, NIFTI being just one of them. I told you that our images \n",
    "# are in NIFTI, but you should confirm if this is indeed the format that we are dealing with\n",
    "# TASK: using .header_class attribute - what is the format of our images?"
   ]
  },
  {
   "cell_type": "markdown",
   "metadata": {},
   "source": [
    "Further down we will be inspecting .header attribute that provides access to NIFTI metadata. You can use this resource as a reference for various fields: https://brainder.org/2012/09/23/the-nifti-file-format/"
   ]
  },
  {
   "cell_type": "code",
   "execution_count": 42,
   "metadata": {},
   "outputs": [
    {
     "name": "stdout",
     "output_type": "stream",
     "text": [
      "8\n"
     ]
    }
   ],
   "source": [
    "# TASK: How many bits per pixel are used?\n",
    "imheader=img.header\n",
    "\n",
    "bitperpixel=np.array(imheader['bitpix'])\n",
    "print(bitperpixel)"
   ]
  },
  {
   "cell_type": "code",
   "execution_count": 43,
   "metadata": {},
   "outputs": [
    {
     "name": "stdout",
     "output_type": "stream",
     "text": [
      "10\n"
     ]
    }
   ],
   "source": [
    "# TASK: What are the units of measurement?\n",
    "xyz_units=imheader['xyzt_units']\n",
    "print(xyz_units)\n"
   ]
  },
  {
   "cell_type": "markdown",
   "metadata": {
    "collapsed": true
   },
   "source": [
    "10 Corresponds to mm"
   ]
  },
  {
   "cell_type": "code",
   "execution_count": 44,
   "metadata": {},
   "outputs": [
    {
     "name": "stdout",
     "output_type": "stream",
     "text": [
      "[1. 1. 1. 1. 1. 0. 0. 0.]\n"
     ]
    }
   ],
   "source": [
    "# TASK: Do we have a regular grid? What are grid spacings?\n",
    "pixdim=imheader['pixdim']\n",
    "print(pixdim)"
   ]
  },
  {
   "cell_type": "markdown",
   "metadata": {},
   "source": [
    "Grid spacing is 1/1/1 so it is a regular grid and one voxel has a volume of 1 mmm3"
   ]
  },
  {
   "cell_type": "code",
   "execution_count": 45,
   "metadata": {},
   "outputs": [
    {
     "name": "stdout",
     "output_type": "stream",
     "text": [
      "[1. 0. 0. 1.]\n",
      "[0. 1. 0. 1.]\n",
      "[0. 0. 1. 1.]\n"
     ]
    }
   ],
   "source": [
    "# TASK: What dimensions represent axial, sagittal, and coronal slices? How do you know?\n",
    "print(imheader['srow_x'])\n",
    "print(imheader['srow_y'])\n",
    "print(imheader['srow_z'])"
   ]
  },
  {
   "cell_type": "markdown",
   "metadata": {},
   "source": [
    "First dimension is the coronal slice\n",
    "Second is sagittal slice\n",
    "Third is axial slice"
   ]
  },
  {
   "cell_type": "code",
   "execution_count": 46,
   "metadata": {},
   "outputs": [
    {
     "name": "stdout",
     "output_type": "stream",
     "text": [
      "(1.0, 1.0, 1.0)\n"
     ]
    }
   ],
   "source": [
    "# By now you should have enough information to decide what are dimensions of a single voxel\n",
    "# TASK: Compute the volume (in mm³) of a hippocampus using one of the labels you've loaded. \n",
    "# You should get a number between ~2200 and ~4500\n",
    "N=26\n",
    "myvolumelabel=nibabel.load(nidf['fullfilename_labels'][N]).get_fdata()\n",
    "print(nibabel.load(nidf['fullfilename_labels'][N]).header.get_zooms())\n",
    "myvolumeimage=nibabel.load(nidf['fullfilename_images'][N]).get_fdata()"
   ]
  },
  {
   "cell_type": "code",
   "execution_count": 47,
   "metadata": {},
   "outputs": [
    {
     "data": {
      "image/png": "[encoded data removed]",
      "text/plain": [
       "<Figure size 360x360 with 1 Axes>"
      ]
     },
     "metadata": {
      "needs_background": "light"
     },
     "output_type": "display_data"
    },
    {
     "data": {
      "image/png": "[encoded data removed]",
      "text/plain": [
       "<Figure size 360x360 with 1 Axes>"
      ]
     },
     "metadata": {
      "needs_background": "light"
     },
     "output_type": "display_data"
    }
   ],
   "source": [
    "plt.rcParams[\"figure.figsize\"] = (5,5)\n",
    "plt.imshow(myvolumeimage[:,:,myvolumeimage.shape[2]//2],cmap=\"gray\")\n",
    "plt.show()\n",
    "plt.imshow(myvolumelabel[:,:,myvolumelabel.shape[2]//2],cmap=\"gray\")\n",
    "plt.show()\n",
    "\n",
    "\n",
    "    "
   ]
  },
  {
   "cell_type": "code",
   "execution_count": 48,
   "metadata": {},
   "outputs": [
    {
     "name": "stdout",
     "output_type": "stream",
     "text": [
      "3220\n"
     ]
    }
   ],
   "source": [
    "# calculate the label volume\n",
    "# each voxel will be considered either present (counting for 1mmm3) or absent (0)\n",
    "def get_volume(volumelabel):\n",
    "    volume = 0\n",
    "    v2=0\n",
    "    for x in range(volumelabel.shape[0]):\n",
    "        for y in range(volumelabel.shape[1]):\n",
    "            for z in range(volumelabel.shape[2]):\n",
    "                if (volumelabel[x][y][z]) != 0:\n",
    "                    volume+=1   \n",
    "    return volume\n",
    "\n",
    "print(get_volume(myvolumelabel))\n"
   ]
  },
  {
   "cell_type": "markdown",
   "metadata": {},
   "source": [
    "## Plotting some charts"
   ]
  },
  {
   "cell_type": "code",
   "execution_count": 49,
   "metadata": {},
   "outputs": [],
   "source": [
    "# TASK: Plot a histogram of all volumes that we have in our dataset and see how \n",
    "# our dataset measures against a slice of a normal population represented by the chart below."
   ]
  },
  {
   "cell_type": "markdown",
   "metadata": {},
   "source": [
    "<img src=\"img/nomogram_fem_right.svg\" width=400 align=left>"
   ]
  },
  {
   "cell_type": "markdown",
   "metadata": {},
   "source": [
    "Do you see any outliers? Why do you think it's so (might be not immediately obvious, but it's always a good idea to inspect) outliers closer. If you haven't found the images that do not belong, the histogram may help you."
   ]
  },
  {
   "cell_type": "markdown",
   "metadata": {},
   "source": [
    "In the real world we would have precise information about the ages and conditions of our patients, and understanding how our dataset measures against population norm would be the integral part of clinical validation that we talked about in last lesson. Unfortunately, we do not have this information about this dataset, so we can only guess why it measures the way it is. If you would like to explore further, you can use the [calculator from HippoFit project](http://www.smanohar.com/biobank/calculator.html) to see how our dataset compares against different population slices"
   ]
  },
  {
   "cell_type": "markdown",
   "metadata": {},
   "source": [
    "Did you notice anything odd about the label files? We hope you did! The mask seems to have two classes, labeled with values `1` and `2` respectively. If you visualized sagittal or axial views, you might have gotten a good guess of what those are. Class 1 is the anterior segment of the hippocampus and class 2 is the posterior one. \n",
    "\n",
    "For the purpose of volume calculation we do not care about the distinction, however we will still train our network to differentiate between these two classes and the background"
   ]
  },
  {
   "cell_type": "code",
   "execution_count": 50,
   "metadata": {},
   "outputs": [],
   "source": [
    "# TASK: Copy the clean dataset to the output folder inside section1/out. You will use it in the next Section"
   ]
  },
  {
   "cell_type": "code",
   "execution_count": 51,
   "metadata": {},
   "outputs": [],
   "source": [
    "nidf['volume']=[get_volume(nibabel.load(x).get_fdata()) for x in nidf['fullfilename_labels']]"
   ]
  },
  {
   "cell_type": "code",
   "execution_count": 52,
   "metadata": {},
   "outputs": [
    {
     "data": {
      "text/plain": [
       "(array([ 4.,  2.,  2.,  3.,  2.,  6.,  4.,  6.,  6.,  4.,  4.,  6.,  6.,\n",
       "         9.,  4.,  5.,  5.,  8.,  9.,  8., 12.,  6.,  7.,  7.,  9., 10.,\n",
       "        11.,  8.,  7.,  8.,  9.,  9., 10.,  7.,  3.,  6.,  5.,  2.,  6.,\n",
       "         6.,  3.,  2.,  0.,  1.,  0.,  0.,  1.,  0.,  0.,  2.]),\n",
       " array([2382.  , 2422.38, 2462.76, 2503.14, 2543.52, 2583.9 , 2624.28,\n",
       "        2664.66, 2705.04, 2745.42, 2785.8 , 2826.18, 2866.56, 2906.94,\n",
       "        2947.32, 2987.7 , 3028.08, 3068.46, 3108.84, 3149.22, 3189.6 ,\n",
       "        3229.98, 3270.36, 3310.74, 3351.12, 3391.5 , 3431.88, 3472.26,\n",
       "        3512.64, 3553.02, 3593.4 , 3633.78, 3674.16, 3714.54, 3754.92,\n",
       "        3795.3 , 3835.68, 3876.06, 3916.44, 3956.82, 3997.2 , 4037.58,\n",
       "        4077.96, 4118.34, 4158.72, 4199.1 , 4239.48, 4279.86, 4320.24,\n",
       "        4360.62, 4401.  ]),\n",
       " <a list of 50 Patch objects>)"
      ]
     },
     "execution_count": 52,
     "metadata": {},
     "output_type": "execute_result"
    },
    {
     "data": {
      "image/png": "[encoded data removed]",
      "text/plain": [
       "<Figure size 360x360 with 1 Axes>"
      ]
     },
     "metadata": {
      "needs_background": "light"
     },
     "output_type": "display_data"
    }
   ],
   "source": [
    "plt.hist(nidf['volume'],bins=50)"
   ]
  },
  {
   "cell_type": "markdown",
   "metadata": {},
   "source": [
    "There is one outlier with a volume >20000"
   ]
  },
  {
   "cell_type": "code",
   "execution_count": 53,
   "metadata": {},
   "outputs": [
    {
     "name": "stdout",
     "output_type": "stream",
     "text": [
      "List index of volumes >20K: []\n",
      "data/TrainingSet\\labels\\hippocampus_311.nii.gz 3201\n"
     ]
    }
   ],
   "source": [
    "myvolumelist=nidf['volume']\n",
    "outlier_list=[i for i in range(len(myvolumelist)) if myvolumelist[i]>20000]\n",
    "print(\"List index of volumes >20K:\",outlier_list)\n",
    "myvolumelist.index(max(myvolumelist))\n",
    "#index 200 is the one with max value\n",
    "print(nidf['fullfilename_labels'][200],nidf['volume'][200])"
   ]
  },
  {
   "cell_type": "markdown",
   "metadata": {},
   "source": [
    "It is only one outlier at index 200"
   ]
  },
  {
   "cell_type": "code",
   "execution_count": 54,
   "metadata": {},
   "outputs": [
    {
     "data": {
      "text/plain": [
       "(array([ 4.,  2.,  2.,  3.,  2.,  6.,  4.,  6.,  6.,  4.,  4.,  6.,  6.,\n",
       "         9.,  4.,  5.,  5.,  8.,  9.,  8., 11.,  6.,  7.,  7.,  9., 10.,\n",
       "        11.,  8.,  7.,  8.,  9.,  9., 10.,  7.,  3.,  6.,  5.,  2.,  6.,\n",
       "         6.,  3.,  2.,  0.,  1.,  0.,  0.,  1.,  0.,  0.,  2.]),\n",
       " array([2382.  , 2422.38, 2462.76, 2503.14, 2543.52, 2583.9 , 2624.28,\n",
       "        2664.66, 2705.04, 2745.42, 2785.8 , 2826.18, 2866.56, 2906.94,\n",
       "        2947.32, 2987.7 , 3028.08, 3068.46, 3108.84, 3149.22, 3189.6 ,\n",
       "        3229.98, 3270.36, 3310.74, 3351.12, 3391.5 , 3431.88, 3472.26,\n",
       "        3512.64, 3553.02, 3593.4 , 3633.78, 3674.16, 3714.54, 3754.92,\n",
       "        3795.3 , 3835.68, 3876.06, 3916.44, 3956.82, 3997.2 , 4037.58,\n",
       "        4077.96, 4118.34, 4158.72, 4199.1 , 4239.48, 4279.86, 4320.24,\n",
       "        4360.62, 4401.  ]),\n",
       " <a list of 50 Patch objects>)"
      ]
     },
     "execution_count": 54,
     "metadata": {},
     "output_type": "execute_result"
    },
    {
     "data": {
      "image/png": "[encoded data removed]",
      "text/plain": [
       "<Figure size 360x360 with 1 Axes>"
      ]
     },
     "metadata": {
      "needs_background": "light"
     },
     "output_type": "display_data"
    }
   ],
   "source": [
    "myvolumelist.pop(200)\n",
    "plt.hist(myvolumelist,bins=50)"
   ]
  },
  {
   "cell_type": "code",
   "execution_count": 55,
   "metadata": {},
   "outputs": [
    {
     "data": {
      "image/png": "[encoded data removed]",
      "text/plain": [
       "<Figure size 360x360 with 1 Axes>"
      ]
     },
     "metadata": {
      "needs_background": "light"
     },
     "output_type": "display_data"
    }
   ],
   "source": [
    "#Let's plot again the centered axial slice\n",
    "plt.imshow(myvolumelabel[:,:,myvolumelabel.shape[2]//2],cmap=\"gray\")\n",
    "plt.show()"
   ]
  },
  {
   "cell_type": "code",
   "execution_count": 56,
   "metadata": {},
   "outputs": [
    {
     "name": "stdout",
     "output_type": "stream",
     "text": [
      "[2. 2. 2. 1. 1. 1. 1. 1. 0. 0. 0. 0. 0. 0. 0.]\n"
     ]
    }
   ],
   "source": [
    "#Let's visualize the values of the label for row 15 and column from 25 to 40\n",
    "print(myvolumelabel[15,25:40,myvolumelabel.shape[2]//2])"
   ]
  },
  {
   "cell_type": "code",
   "execution_count": 57,
   "metadata": {},
   "outputs": [],
   "source": [
    "#Let's check the dimension\n",
    "dim_list_x=[d[1] for d in nidf['dim_i']]\n",
    "dim_list_y=[d[1] for d in nidf['dim_i']]\n",
    "dim_list_z=[d[1] for d in nidf['dim_i']]\n"
   ]
  },
  {
   "cell_type": "code",
   "execution_count": 58,
   "metadata": {},
   "outputs": [
    {
     "data": {
      "text/plain": [
       "(array([ 2.,  0.,  0.,  0., 16.,  0.,  0.,  0., 27.,  0.,  0.,  0., 42.,\n",
       "         0.,  0.,  0., 56.,  0.,  0.,  0., 45.,  0.,  0.,  0.,  0., 34.,\n",
       "         0.,  0.,  0., 27.,  0.,  0.,  0.,  6.,  0.,  0.,  0.,  1.,  0.,\n",
       "         0.,  0.,  2.,  0.,  0.,  0.,  1.,  0.,  0.,  0.,  1.]),\n",
       " array([31.  , 31.24, 31.48, 31.72, 31.96, 32.2 , 32.44, 32.68, 32.92,\n",
       "        33.16, 33.4 , 33.64, 33.88, 34.12, 34.36, 34.6 , 34.84, 35.08,\n",
       "        35.32, 35.56, 35.8 , 36.04, 36.28, 36.52, 36.76, 37.  , 37.24,\n",
       "        37.48, 37.72, 37.96, 38.2 , 38.44, 38.68, 38.92, 39.16, 39.4 ,\n",
       "        39.64, 39.88, 40.12, 40.36, 40.6 , 40.84, 41.08, 41.32, 41.56,\n",
       "        41.8 , 42.04, 42.28, 42.52, 42.76, 43.  ]),\n",
       " <a list of 50 Patch objects>)"
      ]
     },
     "execution_count": 58,
     "metadata": {},
     "output_type": "execute_result"
    },
    {
     "data": {
      "image/png": "[encoded data removed]",
      "text/plain": [
       "<Figure size 360x360 with 1 Axes>"
      ]
     },
     "metadata": {
      "needs_background": "light"
     },
     "output_type": "display_data"
    }
   ],
   "source": [
    "plt.hist(dim_list_x,bins=50)"
   ]
  },
  {
   "cell_type": "code",
   "execution_count": 59,
   "metadata": {},
   "outputs": [
    {
     "data": {
      "text/plain": [
       "(array([ 2.,  0.,  0.,  0., 16.,  0.,  0.,  0., 27.,  0.,  0.,  0., 42.,\n",
       "         0.,  0.,  0., 56.,  0.,  0.,  0., 45.,  0.,  0.,  0.,  0., 34.,\n",
       "         0.,  0.,  0., 27.,  0.,  0.,  0.,  6.,  0.,  0.,  0.,  1.,  0.,\n",
       "         0.,  0.,  2.,  0.,  0.,  0.,  1.,  0.,  0.,  0.,  1.]),\n",
       " array([31.  , 31.24, 31.48, 31.72, 31.96, 32.2 , 32.44, 32.68, 32.92,\n",
       "        33.16, 33.4 , 33.64, 33.88, 34.12, 34.36, 34.6 , 34.84, 35.08,\n",
       "        35.32, 35.56, 35.8 , 36.04, 36.28, 36.52, 36.76, 37.  , 37.24,\n",
       "        37.48, 37.72, 37.96, 38.2 , 38.44, 38.68, 38.92, 39.16, 39.4 ,\n",
       "        39.64, 39.88, 40.12, 40.36, 40.6 , 40.84, 41.08, 41.32, 41.56,\n",
       "        41.8 , 42.04, 42.28, 42.52, 42.76, 43.  ]),\n",
       " <a list of 50 Patch objects>)"
      ]
     },
     "execution_count": 59,
     "metadata": {},
     "output_type": "execute_result"
    },
    {
     "data": {
      "image/png": "[encoded data removed]",
      "text/plain": [
       "<Figure size 360x360 with 1 Axes>"
      ]
     },
     "metadata": {
      "needs_background": "light"
     },
     "output_type": "display_data"
    }
   ],
   "source": [
    "plt.hist(dim_list_y,bins=50)"
   ]
  },
  {
   "cell_type": "code",
   "execution_count": 60,
   "metadata": {},
   "outputs": [
    {
     "data": {
      "text/plain": [
       "(array([ 2.,  0.,  0.,  0., 16.,  0.,  0.,  0., 27.,  0.,  0.,  0., 42.,\n",
       "         0.,  0.,  0., 56.,  0.,  0.,  0., 45.,  0.,  0.,  0.,  0., 34.,\n",
       "         0.,  0.,  0., 27.,  0.,  0.,  0.,  6.,  0.,  0.,  0.,  1.,  0.,\n",
       "         0.,  0.,  2.,  0.,  0.,  0.,  1.,  0.,  0.,  0.,  1.]),\n",
       " array([31.  , 31.24, 31.48, 31.72, 31.96, 32.2 , 32.44, 32.68, 32.92,\n",
       "        33.16, 33.4 , 33.64, 33.88, 34.12, 34.36, 34.6 , 34.84, 35.08,\n",
       "        35.32, 35.56, 35.8 , 36.04, 36.28, 36.52, 36.76, 37.  , 37.24,\n",
       "        37.48, 37.72, 37.96, 38.2 , 38.44, 38.68, 38.92, 39.16, 39.4 ,\n",
       "        39.64, 39.88, 40.12, 40.36, 40.6 , 40.84, 41.08, 41.32, 41.56,\n",
       "        41.8 , 42.04, 42.28, 42.52, 42.76, 43.  ]),\n",
       " <a list of 50 Patch objects>)"
      ]
     },
     "execution_count": 60,
     "metadata": {},
     "output_type": "execute_result"
    },
    {
     "data": {
      "image/png": "[encoded data removed]",
      "text/plain": [
       "<Figure size 360x360 with 1 Axes>"
      ]
     },
     "metadata": {
      "needs_background": "light"
     },
     "output_type": "display_data"
    }
   ],
   "source": [
    "plt.hist(dim_list_z,bins=50)"
   ]
  },
  {
   "cell_type": "code",
   "execution_count": 61,
   "metadata": {},
   "outputs": [
    {
     "name": "stdout",
     "output_type": "stream",
     "text": [
      "[]\n",
      "[]\n",
      "[]\n"
     ]
    }
   ],
   "source": [
    "dim_big_x=[(index,x) for index,x in enumerate(dim_list_x) if x>100]\n",
    "len(dim_big_x)\n",
    "print(dim_big_x)\n",
    "dim_big_y=[(index,y) for index,y in enumerate(dim_list_y) if y>100]\n",
    "len(dim_big_x)\n",
    "print(dim_big_x)\n",
    "dim_big_z=[(index,z) for index,z in enumerate(dim_list_z) if z>100]\n",
    "len(dim_big_z)\n",
    "print(dim_big_z)"
   ]
  },
  {
   "cell_type": "code",
   "execution_count": 62,
   "metadata": {},
   "outputs": [
    {
     "name": "stdout",
     "output_type": "stream",
     "text": [
      "data/TrainingSet\\labels\\hippocampus_366.nii.gz 4151\n"
     ]
    }
   ],
   "source": [
    "print(nidf['fullfilename_labels'][240],nidf['volume'][240])"
   ]
  },
  {
   "cell_type": "code",
   "execution_count": 63,
   "metadata": {},
   "outputs": [
    {
     "name": "stdout",
     "output_type": "stream",
     "text": [
      "N: 260\n"
     ]
    }
   ],
   "source": [
    "N_items=len(nidf['fullfilename_images'])\n",
    "print(\"N:\",N_items)"
   ]
  },
  {
   "cell_type": "code",
   "execution_count": 65,
   "metadata": {},
   "outputs": [],
   "source": [
    "myfile=\"hippo.csv\"\n",
    "#outliers_list=[200,240] #if working on original dataset\n",
    "outliers_list=[] #if working on cleaning dataset\n",
    "with open(myfile,\"w\") as f:\n",
    "    f.write(\"images,labels\\n\")\n",
    "    for i in range(N_items):\n",
    "        if (i not in outliers_list):\n",
    "             f.write(nidf['fullfilename_images'][i]+','+nidf['fullfilename_labels'][i]+'\\n')\n",
    "    f.close()    "
   ]
  },
  {
   "cell_type": "markdown",
   "metadata": {},
   "source": [
    "White pixel are mapped to value 2\n",
    "Grey pixel are mapped to value 1\n"
   ]
  },
  {
   "cell_type": "code",
   "execution_count": null,
   "metadata": {},
   "outputs": [],
   "source": [
    "#filename=\"out/hyppodf.csv\"\n",
    "#nidf.to_csv(filename,columns=[\"fullfilename_images\",\"fullfilename_labels\"])"
   ]
  },
  {
   "cell_type": "markdown",
   "metadata": {},
   "source": [
    "## Final remarks\n",
    "\n",
    "Congratulations! You have finished Section 1. \n",
    "\n",
    "In this section you have inspected a dataset of MRI scans and related segmentations, represented as NIFTI files. We have visualized some slices, and understood the layout of the data. We have inspected file headers to understand what how the image dimensions relate to the physical world and we have understood how to measure our volume. We have then inspected dataset for outliers, and have created a clean set that is ready for consumption by our ML algorithm. \n",
    "\n",
    "In the next section you will create training and testing pipelines for a UNet-based machine learning model, run and monitor the execution, and will produce test metrics. This will arm you with all you need to use the model in the clinical context and reason about its performance!"
   ]
  },
  {
   "cell_type": "code",
   "execution_count": null,
   "metadata": {},
   "outputs": [],
   "source": []
  }
 ],
 "metadata": {
  "kernelspec": {
   "display_name": "Python 3",
   "language": "python",
   "name": "python3"
  },
  "language_info": {
   "codemirror_mode": {
    "name": "ipython",
    "version": 3
   },
   "file_extension": ".py",
   "mimetype": "text/x-python",
   "name": "python",
   "nbconvert_exporter": "python",
   "pygments_lexer": "ipython3",
   "version": "3.7.3"
  }
 },
 "nbformat": 4,
 "nbformat_minor": 2
}
