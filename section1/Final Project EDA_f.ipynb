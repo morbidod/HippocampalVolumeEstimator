{
 "cells": [
  {
   "cell_type": "markdown",
   "metadata": {},
   "source": [
    "# Preparing the dataset for hippocampus segmentation\n",
    "\n",
    "In this notebook you will use the skills and methods that we have talked about during our EDA Lesson to prepare the hippocampus dataset using Python. Follow the Notebook, writing snippets of code where directed so using Task comments, similar to the one below, which expects you to put the proper imports in place. Write your code directly in the cell with TASK comment. Feel free to add cells as you see fit, but please make sure that code that performs that tasked activity sits in the same cell as the Task comment.\n"
   ]
  },
  {
   "cell_type": "code",
   "execution_count": 247,
   "metadata": {},
   "outputs": [],
   "source": [
    "# TASK: Import the following libraries that we will use: nibabel, matplotlib, numpy\n",
    "import numpy as np\n",
    "import matplotlib.pyplot as plt\n",
    "import nibabel\n",
    "import os\n",
    "import pandas as pd"
   ]
  },
  {
   "cell_type": "markdown",
   "metadata": {},
   "source": [
    "It will help your understanding of the data a lot if you were able to use a tool that allows you to view NIFTI volumes, like [3D Slicer](https://www.slicer.org/). I will refer to Slicer throughout this Notebook and will be pasting some images showing what your output might look like."
   ]
  },
  {
   "cell_type": "markdown",
   "metadata": {},
   "source": [
    "## Loading NIFTI images using NiBabel\n",
    "\n",
    "NiBabel is a python library for working with neuro-imaging formats (including NIFTI) that we have used in some of the exercises throughout the course. Our volumes and labels are in NIFTI format, so we will use nibabel to load and inspect them.\n",
    "\n",
    "NiBabel documentation could be found here: https://nipy.org/nibabel/\n",
    "\n",
    "Our dataset sits in two directories - *images* and *labels*. Each image is represented by a single file (we are fortunate to have our data converted to NIFTI) and has a corresponding label file which is named the same as the image file.\n",
    "\n",
    "Note that our dataset is \"dirty\". There are a few images and labels that are not quite right. They should be quite obvious to notice, though. The dataset contains an equal amount of \"correct\" volumes and corresponding labels, and you don't need to alter values of any samples in order to get the clean dataset."
   ]
  },
  {
   "cell_type": "code",
   "execution_count": 248,
   "metadata": {},
   "outputs": [],
   "source": [
    "# TASK: Your data sits in directory /data/TrainingSet.\n",
    "path=r\"../data/TrainingSet\"\n",
    "list_ni_files=[(dp,files) for dp,_,files in os.walk(path) if len(files) != 0]\n",
    "# Load an image and a segmentation mask into variables called image and label"
   ]
  },
  {
   "cell_type": "code",
   "execution_count": 249,
   "metadata": {},
   "outputs": [
    {
     "data": {
      "text/plain": [
       "2"
      ]
     },
     "execution_count": 249,
     "metadata": {},
     "output_type": "execute_result"
    }
   ],
   "source": [
    "len(list_ni_files) #0 images 1 labels"
   ]
  },
  {
   "cell_type": "code",
   "execution_count": 250,
   "metadata": {},
   "outputs": [],
   "source": [
    "list_ni_img_files=list_ni_files[0]\n",
    "list_ni_lbl_files=list_ni_files[1]\n"
   ]
  },
  {
   "cell_type": "code",
   "execution_count": 251,
   "metadata": {},
   "outputs": [
    {
     "data": {
      "text/plain": [
       "tuple"
      ]
     },
     "execution_count": 251,
     "metadata": {},
     "output_type": "execute_result"
    }
   ],
   "source": [
    "type(list_ni_img_files)"
   ]
  },
  {
   "cell_type": "code",
   "execution_count": 252,
   "metadata": {},
   "outputs": [
    {
     "data": {
      "text/plain": [
       "'../data/TrainingSet\\\\images'"
      ]
     },
     "execution_count": 252,
     "metadata": {},
     "output_type": "execute_result"
    }
   ],
   "source": [
    "list_ni_img_files[0]"
   ]
  },
  {
   "cell_type": "code",
   "execution_count": 253,
   "metadata": {},
   "outputs": [
    {
     "data": {
      "text/plain": [
       "list"
      ]
     },
     "execution_count": 253,
     "metadata": {},
     "output_type": "execute_result"
    }
   ],
   "source": [
    "type(list_ni_img_files[1])"
   ]
  },
  {
   "cell_type": "code",
   "execution_count": 258,
   "metadata": {},
   "outputs": [
    {
     "data": {
      "text/plain": [
       "26"
      ]
     },
     "execution_count": 258,
     "metadata": {},
     "output_type": "execute_result"
    }
   ],
   "source": [
    "len(list_ni_img_files[0])"
   ]
  },
  {
   "cell_type": "code",
   "execution_count": 257,
   "metadata": {},
   "outputs": [
    {
     "data": {
      "text/plain": [
       "262"
      ]
     },
     "execution_count": 257,
     "metadata": {},
     "output_type": "execute_result"
    }
   ],
   "source": [
    "len(list_ni_lbl_files[1])"
   ]
  },
  {
   "cell_type": "markdown",
   "metadata": {},
   "source": [
    "One file in the image directory does not have its correspondance in the label one and will be removed"
   ]
  },
  {
   "cell_type": "markdown",
   "metadata": {},
   "source": [
    "I create a Dataframe with 2 columns containing the full path for the images and labels"
   ]
  },
  {
   "cell_type": "code",
   "execution_count": 259,
   "metadata": {},
   "outputs": [],
   "source": [
    "nidf=pd.DataFrame()\n",
    "nidf_dict={}\n",
    "nidf['fullfilename_images']=[os.path.join(list_ni_img_files[0],f) for f in list_ni_img_files[1] if f in list_ni_lbl_files[1] ]\n",
    "nidf['fullfilename_labels']=[os.path.join(list_ni_lbl_files[0],f) for f in list_ni_lbl_files[1]]\n",
    "nidf_dict['fullfilename_images']=[os.path.join(list_ni_img_files[0],f) for f in list_ni_img_files[1] if f in list_ni_lbl_files[1] ]\n",
    "nidf_dict['fullfilename_labels']=[os.path.join(list_ni_lbl_files[0],f) for f in list_ni_lbl_files[1]]\n"
   ]
  },
  {
   "cell_type": "code",
   "execution_count": 260,
   "metadata": {},
   "outputs": [],
   "source": [
    "nidf['pixdim_i'] = [nibabel.load(x).header['pixdim'] for x in nidf['fullfilename_images']]\n",
    "nidf['pixdim_l'] = [nibabel.load(x).header['pixdim'] for x in nidf['fullfilename_labels']]"
   ]
  },
  {
   "cell_type": "code",
   "execution_count": 277,
   "metadata": {},
   "outputs": [],
   "source": [
    "nidf['dim_i'] = [nibabel.load(x).header['dim'] for x in nidf['fullfilename_images']]\n",
    "nidf['dim_l'] = [nibabel.load(x).header['dim'] for x in nidf['fullfilename_labels']]"
   ]
  },
  {
   "cell_type": "code",
   "execution_count": 281,
   "metadata": {},
   "outputs": [],
   "source": [
    "nidf['dim_i_x']=[dim[1] for dim in nidf['dim_i']]\n",
    "nidf['dim_l_x']=[dim[1] for dim in nidf['dim_l']]"
   ]
  },
  {
   "cell_type": "code",
   "execution_count": 282,
   "metadata": {},
   "outputs": [],
   "source": [
    "nidf['dim_i_y']=[dim[2] for dim in nidf['dim_i']]\n",
    "nidf['dim_l_y']=[dim[2] for dim in nidf['dim_l']]"
   ]
  },
  {
   "cell_type": "code",
   "execution_count": 283,
   "metadata": {},
   "outputs": [],
   "source": [
    "nidf['dim_i_z']=[dim[3] for dim in nidf['dim_i']]\n",
    "nidf['dim_l_z']=[dim[3] for dim in nidf['dim_l']]"
   ]
  },
  {
   "cell_type": "code",
   "execution_count": 284,
   "metadata": {},
   "outputs": [
    {
     "data": {
      "text/plain": [
       "35     56\n",
       "36     45\n",
       "34     42\n",
       "37     34\n",
       "38     27\n",
       "33     27\n",
       "32     16\n",
       "39      6\n",
       "41      2\n",
       "31      2\n",
       "512     2\n",
       "43      1\n",
       "42      1\n",
       "40      1\n",
       "Name: dim_i_x, dtype: int64"
      ]
     },
     "execution_count": 284,
     "metadata": {},
     "output_type": "execute_result"
    }
   ],
   "source": [
    "nidf['dim_i_x'].value_counts()"
   ]
  },
  {
   "cell_type": "code",
   "execution_count": 285,
   "metadata": {},
   "outputs": [
    {
     "data": {
      "text/plain": [
       "51     39\n",
       "49     34\n",
       "52     31\n",
       "50     25\n",
       "48     24\n",
       "53     23\n",
       "47     23\n",
       "55     11\n",
       "46      9\n",
       "45      9\n",
       "54      8\n",
       "44      7\n",
       "56      4\n",
       "58      3\n",
       "42      2\n",
       "40      2\n",
       "512     2\n",
       "43      2\n",
       "57      2\n",
       "41      1\n",
       "59      1\n",
       "Name: dim_i_y, dtype: int64"
      ]
     },
     "execution_count": 285,
     "metadata": {},
     "output_type": "execute_result"
    }
   ],
   "source": [
    "nidf['dim_i_y'].value_counts()"
   ]
  },
  {
   "cell_type": "code",
   "execution_count": 292,
   "metadata": {},
   "outputs": [
    {
     "data": {
      "text/html": [
       "<div>\n",
       "<style scoped>\n",
       "    .dataframe tbody tr th:only-of-type {\n",
       "        vertical-align: middle;\n",
       "    }\n",
       "\n",
       "    .dataframe tbody tr th {\n",
       "        vertical-align: top;\n",
       "    }\n",
       "\n",
       "    .dataframe thead th {\n",
       "        text-align: right;\n",
       "    }\n",
       "</style>\n",
       "<table border=\"1\" class=\"dataframe\">\n",
       "  <thead>\n",
       "    <tr style=\"text-align: right;\">\n",
       "      <th></th>\n",
       "      <th>fullfilename_images</th>\n",
       "      <th>fullfilename_labels</th>\n",
       "      <th>pixdim_i</th>\n",
       "      <th>pixdim_l</th>\n",
       "      <th>dim_i</th>\n",
       "      <th>dim_l</th>\n",
       "      <th>bitpix_i</th>\n",
       "      <th>bitpix_l</th>\n",
       "      <th>volume</th>\n",
       "      <th>dim_i_x</th>\n",
       "      <th>dim_l_x</th>\n",
       "      <th>dim_i_y</th>\n",
       "      <th>dim_l_y</th>\n",
       "      <th>dim_i_z</th>\n",
       "      <th>dim_l_z</th>\n",
       "    </tr>\n",
       "  </thead>\n",
       "  <tbody>\n",
       "    <tr>\n",
       "      <th>179</th>\n",
       "      <td>../data/TrainingSet\\images\\hippocampus_281.nii.gz</td>\n",
       "      <td>../data/TrainingSet\\labels\\hippocampus_281.nii.gz</td>\n",
       "      <td>[1.0, 0.785156, 0.785156, 7.5, 0.0, 0.0, 0.0, ...</td>\n",
       "      <td>[1.0, 0.734375, 0.734375, 5.0, 0.0, 0.0, 0.0, ...</td>\n",
       "      <td>[3, 512, 512, 31, 1, 1, 1, 1]</td>\n",
       "      <td>[3, 512, 512, 94, 1, 1, 1, 1]</td>\n",
       "      <td>32</td>\n",
       "      <td>8</td>\n",
       "      <td>20702</td>\n",
       "      <td>512</td>\n",
       "      <td>512</td>\n",
       "      <td>512</td>\n",
       "      <td>512</td>\n",
       "      <td>31</td>\n",
       "      <td>94</td>\n",
       "    </tr>\n",
       "  </tbody>\n",
       "</table>\n",
       "</div>"
      ],
      "text/plain": [
       "                                   fullfilename_images  \\\n",
       "179  ../data/TrainingSet\\images\\hippocampus_281.nii.gz   \n",
       "\n",
       "                                   fullfilename_labels  \\\n",
       "179  ../data/TrainingSet\\labels\\hippocampus_281.nii.gz   \n",
       "\n",
       "                                              pixdim_i  \\\n",
       "179  [1.0, 0.785156, 0.785156, 7.5, 0.0, 0.0, 0.0, ...   \n",
       "\n",
       "                                              pixdim_l  \\\n",
       "179  [1.0, 0.734375, 0.734375, 5.0, 0.0, 0.0, 0.0, ...   \n",
       "\n",
       "                             dim_i                          dim_l bitpix_i  \\\n",
       "179  [3, 512, 512, 31, 1, 1, 1, 1]  [3, 512, 512, 94, 1, 1, 1, 1]       32   \n",
       "\n",
       "    bitpix_l  volume  dim_i_x  dim_l_x  dim_i_y  dim_l_y  dim_i_z  dim_l_z  \n",
       "179        8   20702      512      512      512      512       31       94  "
      ]
     },
     "execution_count": 292,
     "metadata": {},
     "output_type": "execute_result"
    }
   ],
   "source": [
    "nidf[nidf['dim_l_y']>60]"
   ]
  },
  {
   "cell_type": "code",
   "execution_count": 262,
   "metadata": {},
   "outputs": [],
   "source": [
    "nidf['bitpix_i'] = [nibabel.load(x).header['bitpix'] for x in nidf['fullfilename_images']]\n",
    "nidf['bitpix_l'] = [nibabel.load(x).header['bitpix'] for x in nidf['fullfilename_labels']]"
   ]
  },
  {
   "cell_type": "code",
   "execution_count": 263,
   "metadata": {},
   "outputs": [
    {
     "name": "stdout",
     "output_type": "stream",
     "text": [
      "<class 'nibabel.nifti1.Nifti1Header'> object, endian='<'\n",
      "sizeof_hdr      : 348\n",
      "data_type       : b''\n",
      "db_name         : b''\n",
      "extents         : 0\n",
      "session_error   : 0\n",
      "regular         : b'r'\n",
      "dim_info        : 0\n",
      "dim             : [ 3 34 52 35  1  1  1  1]\n",
      "intent_p1       : 0.0\n",
      "intent_p2       : 0.0\n",
      "intent_p3       : 0.0\n",
      "intent_code     : none\n",
      "datatype        : float32\n",
      "bitpix          : 32\n",
      "slice_start     : 0\n",
      "pixdim          : [1. 1. 1. 1. 1. 0. 0. 0.]\n",
      "vox_offset      : 0.0\n",
      "scl_slope       : nan\n",
      "scl_inter       : nan\n",
      "slice_end       : 0\n",
      "slice_code      : unknown\n",
      "xyzt_units      : 10\n",
      "cal_max         : 0.0\n",
      "cal_min         : 0.0\n",
      "slice_duration  : 0.0\n",
      "toffset         : 0.0\n",
      "glmax           : 0\n",
      "glmin           : 0\n",
      "descrip         : b'5.0.10'\n",
      "aux_file        : b'none'\n",
      "qform_code      : scanner\n",
      "sform_code      : scanner\n",
      "quatern_b       : 0.0\n",
      "quatern_c       : 0.0\n",
      "quatern_d       : 0.0\n",
      "qoffset_x       : 1.0\n",
      "qoffset_y       : 1.0\n",
      "qoffset_z       : 1.0\n",
      "srow_x          : [1. 0. 0. 1.]\n",
      "srow_y          : [0. 1. 0. 1.]\n",
      "srow_z          : [0. 0. 1. 1.]\n",
      "intent_name     : b''\n",
      "magic           : b'n+1'\n",
      "[[1. 0. 0. 1.]\n",
      " [0. 1. 0. 1.]\n",
      " [0. 0. 1. 1.]\n",
      " [0. 0. 0. 1.]]\n"
     ]
    }
   ],
   "source": [
    "img=nibabel.load(nidf['fullfilename_images'][1])\n",
    "print(img.header)\n",
    "img.shape\n",
    "img_data=img.get_fdata()\n",
    "img_data.shape\n",
    "print(img.affine)"
   ]
  },
  {
   "cell_type": "code",
   "execution_count": 264,
   "metadata": {},
   "outputs": [
    {
     "name": "stdout",
     "output_type": "stream",
     "text": [
      "<class 'nibabel.nifti1.Nifti1Header'> object, endian='<'\n",
      "sizeof_hdr      : 348\n",
      "data_type       : b''\n",
      "db_name         : b''\n",
      "extents         : 0\n",
      "session_error   : 0\n",
      "regular         : b'r'\n",
      "dim_info        : 0\n",
      "dim             : [ 3 35 51 35  1  1  1  1]\n",
      "intent_p1       : 0.0\n",
      "intent_p2       : 0.0\n",
      "intent_p3       : 0.0\n",
      "intent_code     : none\n",
      "datatype        : uint8\n",
      "bitpix          : 8\n",
      "slice_start     : 0\n",
      "pixdim          : [1. 1. 1. 1. 1. 0. 0. 0.]\n",
      "vox_offset      : 0.0\n",
      "scl_slope       : nan\n",
      "scl_inter       : nan\n",
      "slice_end       : 0\n",
      "slice_code      : unknown\n",
      "xyzt_units      : 10\n",
      "cal_max         : 0.0\n",
      "cal_min         : 0.0\n",
      "slice_duration  : 0.0\n",
      "toffset         : 0.0\n",
      "glmax           : 0\n",
      "glmin           : 0\n",
      "descrip         : b'5.0.10'\n",
      "aux_file        : b'none'\n",
      "qform_code      : scanner\n",
      "sform_code      : scanner\n",
      "quatern_b       : 0.0\n",
      "quatern_c       : 0.0\n",
      "quatern_d       : 0.0\n",
      "qoffset_x       : 1.0\n",
      "qoffset_y       : 1.0\n",
      "qoffset_z       : 1.0\n",
      "srow_x          : [1. 0. 0. 1.]\n",
      "srow_y          : [0. 1. 0. 1.]\n",
      "srow_z          : [0. 0. 1. 1.]\n",
      "intent_name     : b''\n",
      "magic           : b'n+1'\n",
      "[[1. 0. 0. 1.]\n",
      " [0. 1. 0. 1.]\n",
      " [0. 0. 1. 1.]\n",
      " [0. 0. 0. 1.]]\n"
     ]
    }
   ],
   "source": [
    "img=nibabel.load(nidf_dict['fullfilename_images'][0])\n",
    "print(img.header)\n",
    "img.shape\n",
    "img_data=img.get_fdata()\n",
    "img_data.shape\n",
    "print(img.affine)"
   ]
  },
  {
   "cell_type": "code",
   "execution_count": 265,
   "metadata": {},
   "outputs": [],
   "source": [
    "# Nibabel can present your image data as a Numpy array by calling the method get_fdata()\n",
    "# The array will contain a multi-dimensional Numpy array with numerical values representing voxel intensities. \n",
    "# In our case, images and labels are 3-dimensional, so get_fdata will return a 3-dimensional array. You can verify this\n",
    "# by accessing the .shape attribute. What are the dimensions of the input arrays?\n",
    "\n",
    "# TASK: using matplotlib, visualize a few slices from the dataset, along with their labels. \n",
    "# You can adjust plot sizes like so if you find them too small:\n",
    "# plt.rcParams[\"figure.figsize\"] = (10,10)"
   ]
  },
  {
   "cell_type": "code",
   "execution_count": 245,
   "metadata": {},
   "outputs": [
    {
     "data": {
      "text/plain": [
       "Text(0.5, 1.0, 'Axial')"
      ]
     },
     "execution_count": 245,
     "metadata": {},
     "output_type": "execute_result"
    },
    {
     "data": {
      "image/png": "[encoded data removed]",
      "text/plain": [
       "<Figure size 288x288 with 1 Axes>"
      ]
     },
     "metadata": {
      "needs_background": "light"
     },
     "output_type": "display_data"
    }
   ],
   "source": [
    "plt.rcParams[\"figure.figsize\"] = (4,4)\n",
    "plt.imshow(img_data[:,:,img_data.shape[2]//2],cmap=\"gray\")\n",
    "plt.title(\"Axial\")\n",
    "    \n",
    "    "
   ]
  },
  {
   "cell_type": "code",
   "execution_count": 212,
   "metadata": {},
   "outputs": [
    {
     "data": {
      "text/plain": [
       "Text(0.5, 1.0, 'Coronal')"
      ]
     },
     "execution_count": 212,
     "metadata": {},
     "output_type": "execute_result"
    },
    {
     "data": {
      "image/png": "[encoded data removed]",
      "text/plain": [
       "<Figure size 288x288 with 1 Axes>"
      ]
     },
     "metadata": {
      "needs_background": "light"
     },
     "output_type": "display_data"
    }
   ],
   "source": [
    "plt.imshow(img_data[img_data.shape[0]//2,:,:],cmap=\"gray\")\n",
    "plt.title(\"Coronal\")\n"
   ]
  },
  {
   "cell_type": "code",
   "execution_count": 213,
   "metadata": {},
   "outputs": [
    {
     "data": {
      "text/plain": [
       "Text(0.5, 1.0, 'Sagittal')"
      ]
     },
     "execution_count": 213,
     "metadata": {},
     "output_type": "execute_result"
    },
    {
     "data": {
      "image/png": "[encoded data removed]",
      "text/plain": [
       "<Figure size 288x288 with 1 Axes>"
      ]
     },
     "metadata": {
      "needs_background": "light"
     },
     "output_type": "display_data"
    }
   ],
   "source": [
    "plt.imshow(img_data[:,img_data.shape[1]//2,:],cmap=\"gray\")\n",
    "plt.title(\"Sagittal\")"
   ]
  },
  {
   "cell_type": "code",
   "execution_count": 215,
   "metadata": {},
   "outputs": [
    {
     "data": {
      "text/plain": [
       "Text(0.5, 1.0, 'Projection of slices on the Coronal')"
      ]
     },
     "execution_count": 215,
     "metadata": {},
     "output_type": "execute_result"
    },
    {
     "data": {
      "image/png": "[encoded data removed]",
      "text/plain": [
       "<Figure size 288x288 with 1 Axes>"
      ]
     },
     "metadata": {
      "needs_background": "light"
     },
     "output_type": "display_data"
    }
   ],
   "source": [
    "vr = np.zeros((img_data.shape[1], img_data.shape[2]))\n",
    "for ix in range(img_data.shape[0]):\n",
    "    vr+=img_data[ix,:,:]\n",
    "plt.imshow(vr,cmap=\"gray\") \n",
    "plt.title(\"Projection of slices on the Coronal\")"
   ]
  },
  {
   "cell_type": "code",
   "execution_count": 216,
   "metadata": {},
   "outputs": [
    {
     "data": {
      "text/plain": [
       "Text(0.5, 1.0, 'Projection on the Sagittal')"
      ]
     },
     "execution_count": 216,
     "metadata": {},
     "output_type": "execute_result"
    },
    {
     "data": {
      "image/png": "[encoded data removed]",
      "text/plain": [
       "<Figure size 288x288 with 1 Axes>"
      ]
     },
     "metadata": {
      "needs_background": "light"
     },
     "output_type": "display_data"
    }
   ],
   "source": [
    "vr = np.zeros((img_data.shape[0], img_data.shape[2]))\n",
    "for ix in range(img_data.shape[1]):\n",
    "    vr+=img_data[:,ix,:]\n",
    "plt.imshow(vr,cmap=\"gray\") \n",
    "plt.title(\"Projection on the Sagittal\")"
   ]
  },
  {
   "cell_type": "code",
   "execution_count": 217,
   "metadata": {},
   "outputs": [
    {
     "data": {
      "text/plain": [
       "Text(0.5, 1.0, 'Axial projection')"
      ]
     },
     "execution_count": 217,
     "metadata": {},
     "output_type": "execute_result"
    },
    {
     "data": {
      "image/png": "[encoded data removed]",
      "text/plain": [
       "<Figure size 288x288 with 1 Axes>"
      ]
     },
     "metadata": {
      "needs_background": "light"
     },
     "output_type": "display_data"
    }
   ],
   "source": [
    "vr = np.zeros((img_data.shape[0], img_data.shape[1]))\n",
    "for ix in range(img_data.shape[2]):\n",
    "    vr+=img_data[:,:,ix]\n",
    "plt.imshow(vr,cmap=\"gray\") \n",
    "plt.title(\"Axial projection\")"
   ]
  },
  {
   "cell_type": "code",
   "execution_count": 69,
   "metadata": {},
   "outputs": [
    {
     "data": {
      "text/plain": [
       "<matplotlib.image.AxesImage at 0x13b446fc080>"
      ]
     },
     "execution_count": 69,
     "metadata": {},
     "output_type": "execute_result"
    },
    {
     "data": {
      "image/png": "[encoded data removed]",
      "text/plain": [
       "<Figure size 144x144 with 1 Axes>"
      ]
     },
     "metadata": {
      "needs_background": "light"
     },
     "output_type": "display_data"
    }
   ],
   "source": [
    "#Maximum projection along y\n",
    "mip = np.zeros((img_data.shape[0], img_data.shape[2]))\n",
    "for x in range(img_data.shape[0]):\n",
    "        for z in range (img_data.shape[2]):\n",
    "            maxval=0\n",
    "            for y in range(img_data.shape[1]):\n",
    "                if img_data[x,y,z]>maxval:\n",
    "                    maxval=img_data[x,y,z]\n",
    "            mip[x,z]=maxval\n",
    "plt.imshow(mip,cmap=\"gray\")  "
   ]
  },
  {
   "cell_type": "code",
   "execution_count": 218,
   "metadata": {},
   "outputs": [
    {
     "data": {
      "text/plain": [
       "Text(0.5, 1.0, 'Maximum Axial Projection')"
      ]
     },
     "execution_count": 218,
     "metadata": {},
     "output_type": "execute_result"
    },
    {
     "data": {
      "image/png": "[encoded data removed]",
      "text/plain": [
       "<Figure size 288x288 with 1 Axes>"
      ]
     },
     "metadata": {
      "needs_background": "light"
     },
     "output_type": "display_data"
    }
   ],
   "source": [
    "#Maximum projection along z\n",
    "mip = np.zeros((img_data.shape[0], img_data.shape[1]))\n",
    "for x in range(img_data.shape[0]):\n",
    "        for y in range (img_data.shape[1]):\n",
    "            maxval=0\n",
    "            for z in range(img_data.shape[2]):\n",
    "                if img_data[x,y,z]>maxval:\n",
    "                    maxval=img_data[x,y,z]\n",
    "            mip[x,y]=maxval\n",
    "plt.imshow(mip,cmap=\"gray\")  \n",
    "plt.title(\"Maximum Axial Projection\")"
   ]
  },
  {
   "cell_type": "markdown",
   "metadata": {},
   "source": [
    "Load volume into 3D Slicer to validate that your visualization is correct and get a feel for the shape of structures.Try to get a visualization like the one below (hint: while Slicer documentation is not particularly great, there are plenty of YouTube videos available! Just look it up on YouTube if you are not sure how to do something)\n",
    "\n",
    "![3D slicer](img/Slicer.png)"
   ]
  },
  {
   "cell_type": "code",
   "execution_count": null,
   "metadata": {},
   "outputs": [],
   "source": [
    "# Stand out suggestion: use one of the simple Volume Rendering algorithms that we've\n",
    "# implemented in one of our earlier lessons to visualize some of these volumes"
   ]
  },
  {
   "cell_type": "markdown",
   "metadata": {},
   "source": [
    "## Looking at single image data\n",
    "In this section we will look closer at the NIFTI representation of our volumes. In order to measure the physical volume of hippocampi, we need to understand the relationship between the sizes of our voxels and the physical world."
   ]
  },
  {
   "cell_type": "code",
   "execution_count": null,
   "metadata": {
    "scrolled": true
   },
   "outputs": [],
   "source": [
    "# Nibabel supports many imaging formats, NIFTI being just one of them. I told you that our images \n",
    "# are in NIFTI, but you should confirm if this is indeed the format that we are dealing with\n",
    "# TASK: using .header_class attribute - what is the format of our images?"
   ]
  },
  {
   "cell_type": "markdown",
   "metadata": {},
   "source": [
    "Further down we will be inspecting .header attribute that provides access to NIFTI metadata. You can use this resource as a reference for various fields: https://brainder.org/2012/09/23/the-nifti-file-format/"
   ]
  },
  {
   "cell_type": "code",
   "execution_count": 91,
   "metadata": {},
   "outputs": [
    {
     "name": "stdout",
     "output_type": "stream",
     "text": [
      "8\n"
     ]
    }
   ],
   "source": [
    "# TASK: How many bits per pixel are used?\n",
    "imheader=img.header\n",
    "\n",
    "bitperpixel=np.array(imheader['bitpix'])\n",
    "print(bitperpixel)"
   ]
  },
  {
   "cell_type": "code",
   "execution_count": 120,
   "metadata": {},
   "outputs": [
    {
     "name": "stdout",
     "output_type": "stream",
     "text": [
      "10\n"
     ]
    }
   ],
   "source": [
    "# TASK: What are the units of measurement?\n",
    "xyz_units=imheader['xyzt_units']\n",
    "print(xyz_units)\n"
   ]
  },
  {
   "cell_type": "code",
   "execution_count": null,
   "metadata": {
    "collapsed": true
   },
   "outputs": [],
   "source": [
    "10 Corresponds to mm"
   ]
  },
  {
   "cell_type": "code",
   "execution_count": 119,
   "metadata": {},
   "outputs": [
    {
     "name": "stdout",
     "output_type": "stream",
     "text": [
      "[1. 1. 1. 1. 1. 0. 0. 0.]\n"
     ]
    }
   ],
   "source": [
    "# TASK: Do we have a regular grid? What are grid spacings?\n",
    "pixdim=imheader['pixdim']\n",
    "print(pixdim)"
   ]
  },
  {
   "cell_type": "markdown",
   "metadata": {},
   "source": [
    "Grid spacing is 1/1/1 so it is a regular grid and one voxel has a volume of 1 mmm3"
   ]
  },
  {
   "cell_type": "code",
   "execution_count": 100,
   "metadata": {},
   "outputs": [
    {
     "name": "stdout",
     "output_type": "stream",
     "text": [
      "[1. 0. 0. 1.]\n",
      "[0. 1. 0. 1.]\n",
      "[0. 0. 1. 1.]\n"
     ]
    }
   ],
   "source": [
    "# TASK: What dimensions represent axial, sagittal, and coronal slices? How do you know?\n",
    "print(imheader['srow_x'])\n",
    "print(imheader['srow_y'])\n",
    "print(imheader['srow_z'])"
   ]
  },
  {
   "cell_type": "markdown",
   "metadata": {},
   "source": [
    "First dimension is the coronal slice\n",
    "Second is sagittal slice\n",
    "Third is axial slice"
   ]
  },
  {
   "cell_type": "code",
   "execution_count": 266,
   "metadata": {},
   "outputs": [
    {
     "name": "stdout",
     "output_type": "stream",
     "text": [
      "(1.0, 1.0, 1.0)\n"
     ]
    }
   ],
   "source": [
    "# By now you should have enough information to decide what are dimensions of a single voxel\n",
    "# TASK: Compute the volume (in mm³) of a hippocampus using one of the labels you've loaded. \n",
    "# You should get a number between ~2200 and ~4500\n",
    "N=26\n",
    "myvolumelabel=nibabel.load(nidf['fullfilename_labels'][N]).get_fdata()\n",
    "print(nibabel.load(nidf['fullfilename_labels'][N]).header.get_zooms())\n",
    "myvolumeimage=nibabel.load(nidf['fullfilename_images'][N]).get_fdata()"
   ]
  },
  {
   "cell_type": "code",
   "execution_count": 267,
   "metadata": {},
   "outputs": [
    {
     "data": {
      "image/png": "[encoded data removed]",
      "text/plain": [
       "<Figure size 360x360 with 1 Axes>"
      ]
     },
     "metadata": {
      "needs_background": "light"
     },
     "output_type": "display_data"
    },
    {
     "data": {
      "image/png": "[encoded data removed]",
      "text/plain": [
       "<Figure size 360x360 with 1 Axes>"
      ]
     },
     "metadata": {
      "needs_background": "light"
     },
     "output_type": "display_data"
    }
   ],
   "source": [
    "plt.rcParams[\"figure.figsize\"] = (5,5)\n",
    "plt.imshow(myvolumeimage[:,:,myvolumeimage.shape[2]//2],cmap=\"gray\")\n",
    "plt.show()\n",
    "plt.imshow(myvolumelabel[:,:,myvolumelabel.shape[2]//2],cmap=\"gray\")\n",
    "plt.show()\n",
    "\n",
    "\n",
    "    "
   ]
  },
  {
   "cell_type": "code",
   "execution_count": 268,
   "metadata": {},
   "outputs": [
    {
     "name": "stdout",
     "output_type": "stream",
     "text": [
      "3847\n"
     ]
    }
   ],
   "source": [
    "# calculate the label volume\n",
    "# each voxel will be considered either present (counting for 1mmm3) or absent (0)\n",
    "def get_volume(volumelabel):\n",
    "    volume = 0\n",
    "    v2=0\n",
    "    for x in range(volumelabel.shape[0]):\n",
    "        for y in range(volumelabel.shape[1]):\n",
    "            for z in range(volumelabel.shape[2]):\n",
    "                if (volumelabel[x][y][z]) != 0:\n",
    "                    volume+=1   \n",
    "    return volume\n",
    "\n",
    "print(get_volume(myvolumelabel))\n"
   ]
  },
  {
   "cell_type": "markdown",
   "metadata": {},
   "source": [
    "## Plotting some charts"
   ]
  },
  {
   "cell_type": "code",
   "execution_count": 269,
   "metadata": {},
   "outputs": [],
   "source": [
    "# TASK: Plot a histogram of all volumes that we have in our dataset and see how \n",
    "# our dataset measures against a slice of a normal population represented by the chart below."
   ]
  },
  {
   "cell_type": "markdown",
   "metadata": {},
   "source": [
    "<img src=\"img/nomogram_fem_right.svg\" width=400 align=left>"
   ]
  },
  {
   "cell_type": "markdown",
   "metadata": {},
   "source": [
    "Do you see any outliers? Why do you think it's so (might be not immediately obvious, but it's always a good idea to inspect) outliers closer. If you haven't found the images that do not belong, the histogram may help you."
   ]
  },
  {
   "cell_type": "markdown",
   "metadata": {},
   "source": [
    "In the real world we would have precise information about the ages and conditions of our patients, and understanding how our dataset measures against population norm would be the integral part of clinical validation that we talked about in last lesson. Unfortunately, we do not have this information about this dataset, so we can only guess why it measures the way it is. If you would like to explore further, you can use the [calculator from HippoFit project](http://www.smanohar.com/biobank/calculator.html) to see how our dataset compares against different population slices"
   ]
  },
  {
   "cell_type": "markdown",
   "metadata": {},
   "source": [
    "Did you notice anything odd about the label files? We hope you did! The mask seems to have two classes, labeled with values `1` and `2` respectively. If you visualized sagittal or axial views, you might have gotten a good guess of what those are. Class 1 is the anterior segment of the hippocampus and class 2 is the posterior one. \n",
    "\n",
    "For the purpose of volume calculation we do not care about the distinction, however we will still train our network to differentiate between these two classes and the background"
   ]
  },
  {
   "cell_type": "code",
   "execution_count": 270,
   "metadata": {},
   "outputs": [],
   "source": [
    "# TASK: Copy the clean dataset to the output folder inside section1/out. You will use it in the next Section"
   ]
  },
  {
   "cell_type": "code",
   "execution_count": 271,
   "metadata": {},
   "outputs": [],
   "source": [
    "nidf['volume']=[get_volume(nibabel.load(x).get_fdata()) for x in nidf['fullfilename_labels']]"
   ]
  },
  {
   "cell_type": "code",
   "execution_count": 272,
   "metadata": {},
   "outputs": [
    {
     "data": {
      "text/plain": [
       "(array([35., 54., 79., 68., 22.,  3.,  0.,  0.,  0.,  0.,  0.,  0.,  0.,\n",
       "         0.,  0.,  0.,  0.,  0.,  0.,  0.,  0.,  0.,  0.,  0.,  0.,  0.,\n",
       "         0.,  0.,  0.,  0.,  0.,  0.,  0.,  0.,  0.,  0.,  0.,  0.,  0.,\n",
       "         0.,  0.,  0.,  0.,  0.,  0.,  0.,  0.,  0.,  0.,  1.]),\n",
       " array([ 2382. ,  2748.4,  3114.8,  3481.2,  3847.6,  4214. ,  4580.4,\n",
       "         4946.8,  5313.2,  5679.6,  6046. ,  6412.4,  6778.8,  7145.2,\n",
       "         7511.6,  7878. ,  8244.4,  8610.8,  8977.2,  9343.6,  9710. ,\n",
       "        10076.4, 10442.8, 10809.2, 11175.6, 11542. , 11908.4, 12274.8,\n",
       "        12641.2, 13007.6, 13374. , 13740.4, 14106.8, 14473.2, 14839.6,\n",
       "        15206. , 15572.4, 15938.8, 16305.2, 16671.6, 17038. , 17404.4,\n",
       "        17770.8, 18137.2, 18503.6, 18870. , 19236.4, 19602.8, 19969.2,\n",
       "        20335.6, 20702. ]),\n",
       " <a list of 50 Patch objects>)"
      ]
     },
     "execution_count": 272,
     "metadata": {},
     "output_type": "execute_result"
    },
    {
     "data": {
      "image/png": "[encoded data removed]",
      "text/plain": [
       "<Figure size 360x360 with 1 Axes>"
      ]
     },
     "metadata": {
      "needs_background": "light"
     },
     "output_type": "display_data"
    }
   ],
   "source": [
    "plt.hist(nidf['volume'],bins=50)"
   ]
  },
  {
   "cell_type": "markdown",
   "metadata": {},
   "source": [
    "There is one outlier with a volume >20000"
   ]
  },
  {
   "cell_type": "code",
   "execution_count": 275,
   "metadata": {},
   "outputs": [
    {
     "data": {
      "text/html": [
       "<div>\n",
       "<style scoped>\n",
       "    .dataframe tbody tr th:only-of-type {\n",
       "        vertical-align: middle;\n",
       "    }\n",
       "\n",
       "    .dataframe tbody tr th {\n",
       "        vertical-align: top;\n",
       "    }\n",
       "\n",
       "    .dataframe thead th {\n",
       "        text-align: right;\n",
       "    }\n",
       "</style>\n",
       "<table border=\"1\" class=\"dataframe\">\n",
       "  <thead>\n",
       "    <tr style=\"text-align: right;\">\n",
       "      <th></th>\n",
       "      <th>fullfilename_images</th>\n",
       "      <th>fullfilename_labels</th>\n",
       "      <th>pixdim_i</th>\n",
       "      <th>pixdim_l</th>\n",
       "      <th>dim_i</th>\n",
       "      <th>dim_l</th>\n",
       "      <th>bitpix_i</th>\n",
       "      <th>bitpix_l</th>\n",
       "      <th>volume</th>\n",
       "    </tr>\n",
       "  </thead>\n",
       "  <tbody>\n",
       "    <tr>\n",
       "      <th>179</th>\n",
       "      <td>../data/TrainingSet\\images\\hippocampus_281.nii.gz</td>\n",
       "      <td>../data/TrainingSet\\labels\\hippocampus_281.nii.gz</td>\n",
       "      <td>[1.0, 0.785156, 0.785156, 7.5, 0.0, 0.0, 0.0, ...</td>\n",
       "      <td>[1.0, 0.734375, 0.734375, 5.0, 0.0, 0.0, 0.0, ...</td>\n",
       "      <td>[1.0, 0.785156, 0.785156, 7.5, 0.0, 0.0, 0.0, ...</td>\n",
       "      <td>[1.0, 0.734375, 0.734375, 5.0, 0.0, 0.0, 0.0, ...</td>\n",
       "      <td>32</td>\n",
       "      <td>8</td>\n",
       "      <td>20702</td>\n",
       "    </tr>\n",
       "  </tbody>\n",
       "</table>\n",
       "</div>"
      ],
      "text/plain": [
       "                                   fullfilename_images  \\\n",
       "179  ../data/TrainingSet\\images\\hippocampus_281.nii.gz   \n",
       "\n",
       "                                   fullfilename_labels  \\\n",
       "179  ../data/TrainingSet\\labels\\hippocampus_281.nii.gz   \n",
       "\n",
       "                                              pixdim_i  \\\n",
       "179  [1.0, 0.785156, 0.785156, 7.5, 0.0, 0.0, 0.0, ...   \n",
       "\n",
       "                                              pixdim_l  \\\n",
       "179  [1.0, 0.734375, 0.734375, 5.0, 0.0, 0.0, 0.0, ...   \n",
       "\n",
       "                                                 dim_i  \\\n",
       "179  [1.0, 0.785156, 0.785156, 7.5, 0.0, 0.0, 0.0, ...   \n",
       "\n",
       "                                                 dim_l bitpix_i bitpix_l  \\\n",
       "179  [1.0, 0.734375, 0.734375, 5.0, 0.0, 0.0, 0.0, ...       32        8   \n",
       "\n",
       "     volume  \n",
       "179   20702  "
      ]
     },
     "execution_count": 275,
     "metadata": {},
     "output_type": "execute_result"
    }
   ],
   "source": [
    "nidf[nidf.volume>20000]"
   ]
  },
  {
   "cell_type": "code",
   "execution_count": 276,
   "metadata": {
    "scrolled": true
   },
   "outputs": [
    {
     "data": {
      "text/html": [
       "<div>\n",
       "<style scoped>\n",
       "    .dataframe tbody tr th:only-of-type {\n",
       "        vertical-align: middle;\n",
       "    }\n",
       "\n",
       "    .dataframe tbody tr th {\n",
       "        vertical-align: top;\n",
       "    }\n",
       "\n",
       "    .dataframe thead th {\n",
       "        text-align: right;\n",
       "    }\n",
       "</style>\n",
       "<table border=\"1\" class=\"dataframe\">\n",
       "  <thead>\n",
       "    <tr style=\"text-align: right;\">\n",
       "      <th></th>\n",
       "      <th>fullfilename_images</th>\n",
       "      <th>fullfilename_labels</th>\n",
       "      <th>pixdim_i</th>\n",
       "      <th>pixdim_l</th>\n",
       "      <th>dim_i</th>\n",
       "      <th>dim_l</th>\n",
       "      <th>bitpix_i</th>\n",
       "      <th>bitpix_l</th>\n",
       "      <th>volume</th>\n",
       "    </tr>\n",
       "  </thead>\n",
       "  <tbody>\n",
       "    <tr>\n",
       "      <th>0</th>\n",
       "      <td>../data/TrainingSet\\images\\hippocampus_001.nii.gz</td>\n",
       "      <td>../data/TrainingSet\\labels\\hippocampus_001.nii.gz</td>\n",
       "      <td>[1.0, 1.0, 1.0, 1.0, 1.0, 0.0, 0.0, 0.0]</td>\n",
       "      <td>[1.0, 1.0, 1.0, 1.0, 1.0, 0.0, 0.0, 0.0]</td>\n",
       "      <td>[1.0, 1.0, 1.0, 1.0, 1.0, 0.0, 0.0, 0.0]</td>\n",
       "      <td>[1.0, 1.0, 1.0, 1.0, 1.0, 0.0, 0.0, 0.0]</td>\n",
       "      <td>8</td>\n",
       "      <td>8</td>\n",
       "      <td>2948</td>\n",
       "    </tr>\n",
       "    <tr>\n",
       "      <th>1</th>\n",
       "      <td>../data/TrainingSet\\images\\hippocampus_003.nii.gz</td>\n",
       "      <td>../data/TrainingSet\\labels\\hippocampus_003.nii.gz</td>\n",
       "      <td>[1.0, 1.0, 1.0, 1.0, 1.0, 0.0, 0.0, 0.0]</td>\n",
       "      <td>[1.0, 1.0, 1.0, 1.0, 1.0, 0.0, 0.0, 0.0]</td>\n",
       "      <td>[1.0, 1.0, 1.0, 1.0, 1.0, 0.0, 0.0, 0.0]</td>\n",
       "      <td>[1.0, 1.0, 1.0, 1.0, 1.0, 0.0, 0.0, 0.0]</td>\n",
       "      <td>32</td>\n",
       "      <td>32</td>\n",
       "      <td>3353</td>\n",
       "    </tr>\n",
       "  </tbody>\n",
       "</table>\n",
       "</div>"
      ],
      "text/plain": [
       "                                 fullfilename_images  \\\n",
       "0  ../data/TrainingSet\\images\\hippocampus_001.nii.gz   \n",
       "1  ../data/TrainingSet\\images\\hippocampus_003.nii.gz   \n",
       "\n",
       "                                 fullfilename_labels  \\\n",
       "0  ../data/TrainingSet\\labels\\hippocampus_001.nii.gz   \n",
       "1  ../data/TrainingSet\\labels\\hippocampus_003.nii.gz   \n",
       "\n",
       "                                   pixdim_i  \\\n",
       "0  [1.0, 1.0, 1.0, 1.0, 1.0, 0.0, 0.0, 0.0]   \n",
       "1  [1.0, 1.0, 1.0, 1.0, 1.0, 0.0, 0.0, 0.0]   \n",
       "\n",
       "                                   pixdim_l  \\\n",
       "0  [1.0, 1.0, 1.0, 1.0, 1.0, 0.0, 0.0, 0.0]   \n",
       "1  [1.0, 1.0, 1.0, 1.0, 1.0, 0.0, 0.0, 0.0]   \n",
       "\n",
       "                                      dim_i  \\\n",
       "0  [1.0, 1.0, 1.0, 1.0, 1.0, 0.0, 0.0, 0.0]   \n",
       "1  [1.0, 1.0, 1.0, 1.0, 1.0, 0.0, 0.0, 0.0]   \n",
       "\n",
       "                                      dim_l bitpix_i bitpix_l  volume  \n",
       "0  [1.0, 1.0, 1.0, 1.0, 1.0, 0.0, 0.0, 0.0]        8        8    2948  \n",
       "1  [1.0, 1.0, 1.0, 1.0, 1.0, 0.0, 0.0, 0.0]       32       32    3353  "
      ]
     },
     "execution_count": 276,
     "metadata": {},
     "output_type": "execute_result"
    }
   ],
   "source": [
    "nidf.head(2)"
   ]
  },
  {
   "cell_type": "code",
   "execution_count": null,
   "metadata": {},
   "outputs": [],
   "source": []
  },
  {
   "cell_type": "code",
   "execution_count": 231,
   "metadata": {},
   "outputs": [],
   "source": [
    "nidf = nidf.drop(nidf[nidf.volume>20000].index)"
   ]
  },
  {
   "cell_type": "code",
   "execution_count": 232,
   "metadata": {},
   "outputs": [
    {
     "data": {
      "text/plain": [
       "(array([ 4.,  2.,  2.,  3.,  2.,  6.,  4.,  6.,  6.,  4.,  4.,  6.,  6.,\n",
       "         9.,  4.,  5.,  5.,  8.,  9.,  8., 12.,  6.,  7.,  7.,  9., 10.,\n",
       "        12.,  8.,  7.,  8.,  9.,  9., 10.,  7.,  3.,  6.,  5.,  2.,  6.,\n",
       "         6.,  3.,  2.,  0.,  1.,  0.,  0.,  1.,  0.,  0.,  2.]),\n",
       " array([2382.  , 2422.38, 2462.76, 2503.14, 2543.52, 2583.9 , 2624.28,\n",
       "        2664.66, 2705.04, 2745.42, 2785.8 , 2826.18, 2866.56, 2906.94,\n",
       "        2947.32, 2987.7 , 3028.08, 3068.46, 3108.84, 3149.22, 3189.6 ,\n",
       "        3229.98, 3270.36, 3310.74, 3351.12, 3391.5 , 3431.88, 3472.26,\n",
       "        3512.64, 3553.02, 3593.4 , 3633.78, 3674.16, 3714.54, 3754.92,\n",
       "        3795.3 , 3835.68, 3876.06, 3916.44, 3956.82, 3997.2 , 4037.58,\n",
       "        4077.96, 4118.34, 4158.72, 4199.1 , 4239.48, 4279.86, 4320.24,\n",
       "        4360.62, 4401.  ]),\n",
       " <a list of 50 Patch objects>)"
      ]
     },
     "execution_count": 232,
     "metadata": {},
     "output_type": "execute_result"
    },
    {
     "data": {
      "image/png": "[encoded data removed]",
      "text/plain": [
       "<Figure size 288x288 with 1 Axes>"
      ]
     },
     "metadata": {
      "needs_background": "light"
     },
     "output_type": "display_data"
    }
   ],
   "source": [
    "#Plot again the histogram of volume distribution\n",
    "plt.hist(nidf['volume'],bins=50)"
   ]
  },
  {
   "cell_type": "code",
   "execution_count": 233,
   "metadata": {},
   "outputs": [
    {
     "data": {
      "image/png": "[encoded data removed]",
      "text/plain": [
       "<Figure size 288x288 with 1 Axes>"
      ]
     },
     "metadata": {
      "needs_background": "light"
     },
     "output_type": "display_data"
    }
   ],
   "source": [
    "#Let's plot again the centered axial slice\n",
    "plt.imshow(myvolumelabel[:,:,myvolumelabel.shape[2]//2],cmap=\"gray\")\n",
    "plt.show()"
   ]
  },
  {
   "cell_type": "code",
   "execution_count": 235,
   "metadata": {},
   "outputs": [
    {
     "name": "stdout",
     "output_type": "stream",
     "text": [
      "[2. 2. 2. 2. 2. 1. 1. 1. 1. 1. 0. 0. 0. 0. 0.]\n"
     ]
    }
   ],
   "source": [
    "#Let's visualize the values of the label for row 15 and column from 25 to 40\n",
    "print(myvolumelabel[15,25:40,myvolumelabel.shape[2]//2])"
   ]
  },
  {
   "cell_type": "markdown",
   "metadata": {},
   "source": [
    "White pixel are mapped to value 2\n",
    "Grey pixel are mapped to value 1\n"
   ]
  },
  {
   "cell_type": "code",
   "execution_count": 236,
   "metadata": {},
   "outputs": [],
   "source": [
    "filename=\"out/hyppodf.csv\"\n",
    "nidf.to_csv(filename,columns=[\"fullfilename_images\",\"fullfilename_labels\"])"
   ]
  },
  {
   "cell_type": "markdown",
   "metadata": {},
   "source": [
    "## Final remarks\n",
    "\n",
    "Congratulations! You have finished Section 1. \n",
    "\n",
    "In this section you have inspected a dataset of MRI scans and related segmentations, represented as NIFTI files. We have visualized some slices, and understood the layout of the data. We have inspected file headers to understand what how the image dimensions relate to the physical world and we have understood how to measure our volume. We have then inspected dataset for outliers, and have created a clean set that is ready for consumption by our ML algorithm. \n",
    "\n",
    "In the next section you will create training and testing pipelines for a UNet-based machine learning model, run and monitor the execution, and will produce test metrics. This will arm you with all you need to use the model in the clinical context and reason about its performance!"
   ]
  }
 ],
 "metadata": {
  "kernelspec": {
   "display_name": "Python 3",
   "language": "python",
   "name": "python3"
  },
  "language_info": {
   "codemirror_mode": {
    "name": "ipython",
    "version": 3
   },
   "file_extension": ".py",
   "mimetype": "text/x-python",
   "name": "python",
   "nbconvert_exporter": "python",
   "pygments_lexer": "ipython3",
   "version": "3.7.3"
  }
 },
 "nbformat": 4,
 "nbformat_minor": 2
}
